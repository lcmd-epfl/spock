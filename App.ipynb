{
 "cells": [
  {
   "cell_type": "markdown",
   "metadata": {},
   "source": [
    "<img style=\"float: right;\" src=\"images/spock_logo.png\" width=\"500\">\n",
    "\n",
    "# spock\n",
    "Unit Cell to Molecule Interpretation"
   ]
  },
  {
   "cell_type": "code",
   "execution_count": 5,
   "metadata": {
    "ExecuteTime": {
     "end_time": "2022-09-02T08:54:39.475444Z",
     "start_time": "2022-09-02T08:54:36.559116Z"
    },
    "tags": []
   },
   "outputs": [
    {
     "data": {
      "application/vnd.jupyter.widget-view+json": {
       "model_id": "4ae1d0235ee44e7bb428fbde2d7ecfeb",
       "version_major": 2,
       "version_minor": 0
      },
      "text/plain": [
       "Accordion(children=(HTML(value='<p>cell2mol is able to analyze cif files containing crystallographic unit cell…"
      ]
     },
     "execution_count": 5,
     "metadata": {},
     "output_type": "execute_result"
    }
   ],
   "source": [
    "import numpy as np\n",
    "import navicat_spock\n",
    "from ipywidgets import interactive, widgets, HTML, Button\n",
    "from typing import Callable, Any\n",
    "import warnings\n",
    "import os\n",
    "import markdown\n",
    "import codecs\n",
    "import pickle\n",
    "from IPython.display import display, FileLink, clear_output\n",
    "from contextlib import contextmanager\n",
    "from io import StringIO \n",
    "import sys\n",
    "import py3Dmol\n",
    "import rdkit\n",
    "from rdkit import Chem\n",
    "from rdkit.Chem import AllChem\n",
    "from rdkit.Chem import Draw\n",
    "from rdkit.Chem.Draw import IPythonConsole\n",
    "\n",
    "\n",
    "warnings.simplefilter('ignore')\n",
    "html_description = markdown.markdown(\"\"\"\n",
    "cell2mol is able to analyze cif files containing crystallographic unit cell information and provide a chemical interpretation of the individual molecular species. Run the entire notebook and use the widget to proceed through the four tabs sequentially.\"\"\")\n",
    "description=HTML(html_description)\n",
    "\n",
    "pre_accordion = widgets.Accordion()\n",
    "pre_accordion.children = [description]\n",
    "pre_accordion.set_title(0, 'Description')\n",
    "pre_accordion.selected_index = None\n",
    "pre_accordion"
   ]
  },
  {
   "cell_type": "code",
   "execution_count": 3,
   "metadata": {
    "ExecuteTime": {
     "end_time": "2022-09-02T08:54:54.235590Z",
     "start_time": "2022-09-02T08:54:39.476983Z"
    },
    "tags": []
   },
   "outputs": [
    {
     "ename": "ModuleNotFoundError",
     "evalue": "No module named 'spock'",
     "output_type": "error",
     "traceback": [
      "\u001b[0;31m---------------------------------------------------------------------------\u001b[0m",
      "\u001b[0;31mModuleNotFoundError\u001b[0m                       Traceback (most recent call last)",
      "Cell \u001b[0;32mIn [3], line 2\u001b[0m\n\u001b[1;32m      1\u001b[0m \u001b[38;5;66;03m# Import the core functionalities of cell2mol\u001b[39;00m\n\u001b[0;32m----> 2\u001b[0m \u001b[38;5;28;01mfrom\u001b[39;00m \u001b[38;5;21;01mspock\u001b[39;00m \u001b[38;5;28;01mimport\u001b[39;00m run_spock_from_args\n\u001b[1;32m      4\u001b[0m \u001b[38;5;66;03m# Define some basic functionalities\u001b[39;00m\n\u001b[1;32m      6\u001b[0m \u001b[38;5;28;01mclass\u001b[39;00m \u001b[38;5;21;01mCapturing\u001b[39;00m(\u001b[38;5;28mlist\u001b[39m):\n",
      "\u001b[0;31mModuleNotFoundError\u001b[0m: No module named 'spock'"
     ]
    }
   ],
   "source": [
    "# Import the core functionalities of cell2mol\n",
    "from spock import run_spock_from_args\n",
    "\n",
    "# Define some basic functionalities\n",
    "\n",
    "class Capturing(list):\n",
    "    def __enter__(self):\n",
    "        self._stdout = sys.stdout\n",
    "        sys.stdout = self._stringio = StringIO()\n",
    "        return self\n",
    "    def __exit__(self, *args):\n",
    "        self.extend(self._stringio.getvalue().splitlines())\n",
    "        del self._stringio    # free up some memory\n",
    "        sys.stdout = self._stdout\n",
    "\n",
    "\n",
    "class ExecutionButton(Button):\n",
    "    def __init__(self, action: Callable[bool, Any], WidgetOut, **kwargs):\n",
    "        super(ExecutionButton, self).__init__(**kwargs)\n",
    "        self.action = action\n",
    "        self.tooltip='Click me to run'\n",
    "        self.description='Run'\n",
    "        self.icon='fa-check'\n",
    "        self.output = WidgetOut\n",
    "        self.on_click(self.__on_click)\n",
    "        \n",
    "    @contextmanager\n",
    "    def show_loading(self):\n",
    "        self.description = 'Running...'\n",
    "        self.icon = 'fa-stop'\n",
    "        yield\n",
    "        self.description = 'Ready to run again'\n",
    "        self.icon = 'fa-check'\n",
    "           \n",
    "    def __on_click(self, b):\n",
    "        with self.show_loading():\n",
    "            toprint = self.action(run=True, out=self.output)\n",
    "        with self.output :\n",
    "            for line in toprint:\n",
    "                print(line)\n",
    "\n",
    "#############################\n",
    "\n",
    "Widget1UploadConfiguration = widgets.FileUpload(\n",
    " accept='.csv',  # Accepted file extension e.g. '.cif'\n",
    " multiple=False,  # True to accept multiple files upload else False\n",
    " wait=True\n",
    ")\n",
    "\n",
    "examples = ('Sabatier volcano', 'test/sabatier.csv'),\n",
    "widget_choose_filename = widgets.Dropdown(options=examples,description='Data:')\n",
    "\n",
    "Widget1Out = widgets.Output()\n",
    "def chooseAndPlotConfigurationAltOutput(filename):\n",
    "    Widget1Out.clear_output()\n",
    "    #with Widget1Out:\n",
    "    #    plot_from_file(filename)\n",
    "        \n",
    "Widget1ExampleConfiguration = interactive(chooseAndPlotConfigurationAltOutput, filename=widget_choose_filename)\n",
    "\n",
    "# This function updates the dropdown list when a new file is uploaded\n",
    "def updateWidget1ExampleConfiguration(*args):\n",
    "    uploaded = next(iter(Widget1UploadConfiguration.value))\n",
    "    cif_content = codecs.decode(uploaded['content'], encoding=\"utf-8\")\n",
    "    print(cif_content)\n",
    "    cif_name = uploaded['name']\n",
    "    mypath=\"./uploaded/\"\n",
    "    with open(mypath + cif_name, 'w') as f: \n",
    "        f.write(cif_content)\n",
    "    found_files=[]\n",
    "    for f in os.listdir(mypath):\n",
    "        found_files.append(f)\n",
    "    all_files = found_files\n",
    "    widget_choose_filename.options = all_files\n",
    "    \n",
    "\n",
    "Widget1UploadConfiguration.observe(updateWidget1ExampleConfiguration,names='value')\n",
    "Widget1ExamplesAndUpload = widgets.HBox([Widget1ExampleConfiguration,Widget1UploadConfiguration])\n",
    "Widget1Text = HTML(markdown.markdown(\"\"\"\n",
    "Choose a data sheet from the examples or upload your own in .csv format.\n",
    "\"\"\"))\n",
    "Widget1 = widgets.VBox([Widget1Text,Widget1ExamplesAndUpload,Widget1Out])\n",
    "\n",
    "Widget2Text = HTML(markdown.markdown(\"\"\"\n",
    "Will run spock on the csv provided. When finished, output will be printed below.\n",
    "\"\"\"))\n",
    "Widget2BottomText = HTML(markdown.markdown(\"\"\"\n",
    "Output:\n",
    "\"\"\"))\n",
    "Widget2Out = widgets.Output(layout={'border': '1px solid black'})\n",
    "\n",
    "#############################\n",
    "# STEP 2: Run cell2info\n",
    "#############################\n",
    "def run(run=False, out=None):\n",
    "    if run :\n",
    "        cif_name = widget_choose_filename.value\n",
    "        if \"/\" in cif_name :\n",
    "            cif_name = cif_name.split(\"/\")[-1]\n",
    "        refcode = cif_name.split(\"/\")[-1].split(\".\")[-2]\n",
    "        info_name = cif_name.replace('.cif', '.info')\n",
    "        err_name = cif_name.replace('.cif', '.err')\n",
    "        input_path = \"./uploaded/\" + cif_name\n",
    "        info_path = \"./uploaded/\" + info_name\n",
    "        error_path = \"./uploaded/\" + err_name\n",
    "        cell_path = \"./Cell_\" + refcode +'.gmol'\n",
    "        with Capturing() as output:\n",
    "            cif_2_info(input_path, info_path, error_path)\n",
    "        error = False\n",
    "        with open(error_path, 'r') as err:\n",
    "            for line in err.readlines():\n",
    "                if \"Error\" in line:\n",
    "                    output.extend([line])\n",
    "                    error = True\n",
    "        if error :\n",
    "            output.extend([f\"Parsing of .cif file {cif_name} failed due to the error above.\"])\n",
    "        else :\n",
    "            output.extend([f\"Infofile {info_name} generated from {cif_name} succesfully.\"])\n",
    "        return output\n",
    "\n",
    "#############################\n",
    "# STEP 3: Run cell2mol on infofile\n",
    "#############################\n",
    "def run_cell2mol(run=False, out=None):\n",
    "    if run :\n",
    "        cif_name = widget_choose_filename.value\n",
    "        if \"/\" in cif_name :\n",
    "            cif_name = cif_name.split(\"/\")[-1]\n",
    "        refcode = cif_name.split(\"/\")[-1].split(\".\")[-2]\n",
    "        info_name = cif_name.replace('.cif', '.info')\n",
    "        err_name = cif_name.replace('.cif', '.err')\n",
    "        input_path = \"./uploaded/\" + cif_name\n",
    "        info_path = \"./uploaded/\" + info_name\n",
    "        error_path = \"./uploaded/\" + err_name\n",
    "        cell_path = \"./Cell_\" + refcode +'.gmol'\n",
    "        output = []\n",
    "        if os.path.exists(info_path):\n",
    "            with Capturing() as output:\n",
    "                cell = cell2mol(info_path, refcode, \"./uploaded/\", 3)\n",
    "                save_cell(cell, 'gmol', \"./uploaded/\")\n",
    "            # This line removes cell2mol output from printout, it should be extend not redefine\n",
    "            output = [f\"For input {cif_name}\"]\n",
    "            output = printing_text(cell, output)\n",
    "        else:\n",
    "            output.extend([f\"Please, wait until cell2info has finished for this input. Could not find {info_name}.\"])\n",
    "        return output\n",
    "\n",
    "#############################\n",
    "# STEP 4: Display structures\n",
    "#############################    \n",
    "    \n",
    "def display_mol(run=False, out=None):\n",
    "    if run :\n",
    "        with Capturing() as output:\n",
    "            path = find_gmol(run=run)\n",
    "            cell = pickle.load(open(path, \"rb\"))\n",
    "        with out:\n",
    "            printing_structure_cell(cell)\n",
    "    return output   \n",
    "\n",
    "#############################\n",
    "# STEP 5: Set up download of gmol files\n",
    "#############################            \n",
    "def find_gmol(run=False):\n",
    "    if run :\n",
    "        cif_name = widget_choose_filename.value\n",
    "        if \"/\" in cif_name :\n",
    "            cif_name = cif_name.split(\"/\")[-1]\n",
    "        refcode = cif_name.split(\"/\")[-1].split(\".\")[-2]\n",
    "        cell_path = \"./uploaded/Cell_\" + refcode +'.gmol'\n",
    "        output = []\n",
    "        if os.path.exists(cell_path):\n",
    "            print(f\"Found cell file in {cell_path}\")\n",
    "            return cell_path\n",
    "        else:\n",
    "            return None  \n",
    "    else:\n",
    "        return None\n",
    "\n",
    "class DownloadFileLink(FileLink):\n",
    "    html_link_str = \"<a href='{link}' download={file_name}>{link_text}</a>\"\n",
    "\n",
    "    def __init__(self, path, file_name=None, link_text=None, *args, **kwargs):\n",
    "        super(DownloadFileLink, self).__init__(path, *args, **kwargs)\n",
    "\n",
    "        self.file_name = file_name or os.path.split(path)[1]\n",
    "        self.link_text = link_text or self.file_name\n",
    "\n",
    "    def _format_path(self):\n",
    "        from html import escape\n",
    "\n",
    "        fp = \"\".join([self.url_prefix, escape(self.path)])\n",
    "        return \"\".join(\n",
    "            [\n",
    "                self.result_html_prefix,\n",
    "                self.html_link_str.format(\n",
    "                    link=fp, file_name=self.file_name, link_text=self.link_text\n",
    "                ),\n",
    "                self.result_html_suffix,\n",
    "            ]\n",
    "        )\n",
    "\n",
    "def display_fl(run=False, out=None):\n",
    "    if run :\n",
    "        with Capturing() as output:\n",
    "            path = find_gmol(run=run)\n",
    "            filename = path.split(\"/\")[-1]\n",
    "            if path is not None:\n",
    "                fl = DownloadFileLink(path, f\"{filename}\")\n",
    "                print(\"Ready to download!\")\n",
    "            else:\n",
    "                print(\"Download not ready.\")\n",
    "        with out:\n",
    "            display(fl)\n",
    "    return output\n",
    "\n",
    "#############################\n",
    "# STEP 6: Clear all the output\n",
    "#############################    \n",
    "    \n",
    "def clear (run=False, out=None, *some):\n",
    "    if run :\n",
    "        with out:\n",
    "            output=[]\n",
    "            for i in some:\n",
    "                i.clear_output() \n",
    "            output.extend([\"All the output was cleared\"])\n",
    "    return output\n",
    "\n",
    "Widget2 = widgets.VBox([Widget2Text, ExecutionButton(run_cell2info, Widget2Out), Widget2BottomText, Widget2Out])          \n",
    "Widget3 = widgets.VBox([Widget3Text, ExecutionButton(run_cell2mol, Widget3Out), Widget3BottomText, Widget3Out])\n",
    "Widget4 = widgets.VBox([Widget4Text, ExecutionButton(display_mol, Widget4Out), Widget4BottomText, Widget4Out])\n",
    "Widget5 = widgets.VBox([Widget5Text, ExecutionButton(display_fl, Widget5Out), Widget5BottomText, Widget5Out]) \n",
    "# Widget6 = widgets.VBox([Widget6Text, ExecutionButton(clear(Widget2Out, Widget3Out, Widget4Out, Widget5Out), Widget6Out), Widget6BottomText, Widget6Out]) \n",
    "\n",
    "#############################\n",
    "# Put widget in tab\n",
    "#############################\n",
    "\n",
    "children = [Widget1, Widget2, Widget3, Widget4, Widget5]\n",
    "# children = [Widget1, Widget2, Widget3, Widget4, Widget5, Widget6]\n",
    "tab = widgets.Tab() #layout=widgets.Layout(width='800px', height='800px'))\n",
    "tab.children = children\n",
    "tab.set_title(0, 'Upload file')\n",
    "tab.set_title(1, 'Run cell2info')\n",
    "tab.set_title(2, 'Run cell2mol')\n",
    "tab.set_title(3, 'Visualize molecules')\n",
    "tab.set_title(4, 'Download cell file')\n",
    "# tab.set_title(5, 'Clear output')"
   ]
  },
  {
   "cell_type": "code",
   "execution_count": 3,
   "metadata": {
    "ExecuteTime": {
     "end_time": "2022-09-02T08:54:54.250014Z",
     "start_time": "2022-09-02T08:54:54.238004Z"
    },
    "tags": []
   },
   "outputs": [
    {
     "data": {
      "application/vnd.jupyter.widget-view+json": {
       "model_id": "8a096dcb40e44c6baa7ea3fb43bf717a",
       "version_major": 2,
       "version_minor": 0
      },
      "text/plain": [
       "Tab(children=(VBox(children=(HTML(value='<p>Choose a structure from the examples or upload your own in .cif fo…"
      ]
     },
     "metadata": {},
     "output_type": "display_data"
    }
   ],
   "source": [
    "display(tab)"
   ]
  },
  {
   "cell_type": "code",
   "execution_count": 4,
   "metadata": {},
   "outputs": [
    {
     "data": {
      "text/plain": [
       "['All the output was cleared']"
      ]
     },
     "execution_count": 4,
     "metadata": {},
     "output_type": "execute_result"
    }
   ],
   "source": []
  },
  {
   "cell_type": "code",
   "execution_count": 4,
   "metadata": {
    "ExecuteTime": {
     "end_time": "2022-09-02T08:54:54.589544Z",
     "start_time": "2022-09-02T08:54:54.589534Z"
    },
    "tags": []
   },
   "outputs": [
    {
     "data": {
      "application/vnd.jupyter.widget-view+json": {
       "model_id": "80c3b4f2490d493387a87e3d13d71001",
       "version_major": 2,
       "version_minor": 0
      },
      "text/plain": [
       "Accordion(children=(VBox(children=(HTML(value='<ul>\\n<li>Funding from the NCCR Catalysis funded by the SNSF.</…"
      ]
     },
     "execution_count": 4,
     "metadata": {},
     "output_type": "execute_result"
    }
   ],
   "source": [
    "html_acknowledgments = markdown.markdown(\"\"\"\n",
    "* Funding from the NCCR Catalysis funded by the SNSF.\n",
    "\"\"\")\n",
    "acknowledgments=widgets.VBox([\n",
    "    HTML(html_acknowledgments)\n",
    "])\n",
    "\n",
    "html_howtocite = markdown.markdown(\"\"\"\n",
    "Please cite the spock paper~!\n",
    "\"\"\")\n",
    "howtocite=widgets.VBox([\n",
    "    HTML(html_howtocite)\n",
    "])\n",
    "\n",
    "post_children=[acknowledgments,howtocite]\n",
    "post_accordion = widgets.Accordion(layout=widgets.Layout())\n",
    "#print(post_accordion.layout.keys)\n",
    "post_accordion.children = post_children\n",
    "post_accordion.set_title(0, 'Acknowledgments')\n",
    "post_accordion.set_title(1, 'How to cite')\n",
    "post_accordion.selected_index = None\n",
    "post_accordion"
   ]
  },
  {
   "cell_type": "markdown",
   "metadata": {},
   "source": [
    "See the project on [GitHub](https://github.com/lcmd-epfl/cell2mol)"
   ]
  },
  {
   "cell_type": "markdown",
   "metadata": {},
   "source": [
    "spock, Copyright © 2024 "
   ]
  },
  {
   "cell_type": "code",
   "execution_count": null,
   "metadata": {},
   "outputs": [],
   "source": []
  }
 ],
 "metadata": {
  "kernelspec": {
   "display_name": "cell2mol",
   "language": "python",
   "name": "cell2mol"
  },
  "language_info": {
   "codemirror_mode": {
    "name": "ipython",
    "version": 3
   },
   "file_extension": ".py",
   "mimetype": "text/x-python",
   "name": "python",
   "nbconvert_exporter": "python",
   "pygments_lexer": "ipython3",
   "version": "3.10.6"
  }
 },
 "nbformat": 4,
 "nbformat_minor": 4
}
