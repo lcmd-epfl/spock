{
 "cells": [
  {
   "cell_type": "markdown",
   "metadata": {},
   "source": [
    "<img style=\"float: right;\" src=\"images/spock.png\" width=\"500\">\n",
    "\n",
    "# spock\n"
   ]
  },
  {
   "cell_type": "code",
   "execution_count": 8,
   "metadata": {
    "ExecuteTime": {
     "end_time": "2022-09-02T08:54:39.475444Z",
     "start_time": "2022-09-02T08:54:36.559116Z"
    },
    "tags": []
   },
   "outputs": [
    {
     "data": {
      "application/vnd.jupyter.widget-view+json": {
       "model_id": "6754aec7456a4a0b8482aced2facfec7",
       "version_major": 2,
       "version_minor": 0
      },
      "text/plain": [
       "Accordion(children=(HTML(value='<p>spock tries to fit a volcano plot to your data. Run the entire notebook and…"
      ]
     },
     "execution_count": 8,
     "metadata": {},
     "output_type": "execute_result"
    }
   ],
   "source": [
    "import numpy as np\n",
    "import navicat_spock\n",
    "from ipywidgets import interactive, widgets, HTML, Button\n",
    "from typing import Callable, Any\n",
    "import warnings\n",
    "import os\n",
    "import markdown\n",
    "import codecs\n",
    "import pickle\n",
    "import pandas as pd\n",
    "from IPython.display import display, FileLink, clear_output\n",
    "from contextlib import contextmanager\n",
    "from io import StringIO \n",
    "import sys\n",
    "\n",
    "\n",
    "warnings.simplefilter('ignore')\n",
    "html_description = markdown.markdown(\"\"\"\n",
    "spock tries to fit a volcano plot to your data. Run the entire notebook and use the widget to proceed sequentially.\"\"\")\n",
    "description=HTML(html_description)\n",
    "\n",
    "pre_accordion = widgets.Accordion()\n",
    "pre_accordion.children = [description]\n",
    "pre_accordion.set_title(0, 'Description')\n",
    "pre_accordion.selected_index = None\n",
    "pre_accordion"
   ]
  },
  {
   "cell_type": "code",
   "execution_count": 9,
   "metadata": {
    "ExecuteTime": {
     "end_time": "2022-09-02T08:54:54.235590Z",
     "start_time": "2022-09-02T08:54:39.476983Z"
    },
    "tags": []
   },
   "outputs": [],
   "source": [
    "# Import the core functionalities of cell2mol\n",
    "from navicat_spock.spock import run_spock_from_args\n",
    "\n",
    "# Define some basic functionalities\n",
    "\n",
    "class Capturing(list):\n",
    "    def __enter__(self):\n",
    "        self._stdout = sys.stdout\n",
    "        sys.stdout = self._stringio = StringIO()\n",
    "        return self\n",
    "    def __exit__(self, *args):\n",
    "        self.extend(self._stringio.getvalue().splitlines())\n",
    "        del self._stringio    # free up some memory\n",
    "        sys.stdout = self._stdout\n",
    "\n",
    "\n",
    "class ExecutionButton(Button):\n",
    "    def __init__(self, action, WidgetOut, **kwargs):\n",
    "        super(ExecutionButton, self).__init__(**kwargs)\n",
    "        self.action = action\n",
    "        self.tooltip='Click me to run'\n",
    "        self.description='Run'\n",
    "        self.icon='fa-check'\n",
    "        self.output = WidgetOut\n",
    "        self.on_click(self.__on_click)\n",
    "        \n",
    "    @contextmanager\n",
    "    def show_loading(self):\n",
    "        self.description = 'Running...'\n",
    "        self.icon = 'fa-stop'\n",
    "        yield\n",
    "        self.description = 'Ready to run again'\n",
    "        self.icon = 'fa-check'\n",
    "           \n",
    "    def __on_click(self, b):\n",
    "        with self.show_loading():\n",
    "            toprint = self.action(run=True, out=self.output)\n",
    "        with self.output :\n",
    "            for line in toprint:\n",
    "                print(line)\n",
    "\n",
    "#############################\n",
    "\n",
    "Widget1UploadConfiguration = widgets.FileUpload(\n",
    " accept='.csv',  # Accepted file extension e.g. '.cif'\n",
    " multiple=False,  # True to accept multiple files upload else False\n",
    " wait=True\n",
    ")\n",
    "\n",
    "examples = ('Sabatier volcano', 'test/sabatier.csv'),\n",
    "widget_choose_filename = widgets.Dropdown(options=examples,description='Data:')\n",
    "\n",
    "Widget1Out = widgets.Output()\n",
    "def chooseAndPlotConfigurationAltOutput(filename):\n",
    "    Widget1Out.clear_output()\n",
    "    #with Widget1Out:\n",
    "    #    plot_from_file(filename)\n",
    "        \n",
    "Widget1ExampleConfiguration = interactive(chooseAndPlotConfigurationAltOutput, filename=widget_choose_filename)\n",
    "\n",
    "# This function updates the dropdown list when a new file is uploaded\n",
    "def updateWidget1ExampleConfiguration(*args):\n",
    "    uploaded = next(iter(Widget1UploadConfiguration.value))\n",
    "    cif_content = codecs.decode(uploaded['content'], encoding=\"utf-8\")\n",
    "    print(cif_content)\n",
    "    cif_name = uploaded['name']\n",
    "    mypath=\"./uploaded/\"\n",
    "    with open(mypath + cif_name, 'w') as f: \n",
    "        f.write(cif_content)\n",
    "    found_files=[]\n",
    "    for f in os.listdir(mypath):\n",
    "        found_files.append(f)\n",
    "    all_files = found_files\n",
    "    widget_choose_filename.options = all_files\n",
    "    \n",
    "\n",
    "Widget1UploadConfiguration.observe(updateWidget1ExampleConfiguration,names='value')\n",
    "Widget1ExamplesAndUpload = widgets.HBox([Widget1ExampleConfiguration,Widget1UploadConfiguration])\n",
    "Widget1Text = HTML(markdown.markdown(\"\"\"\n",
    "Choose a data sheet from the examples or upload your own in .csv format.\n",
    "\"\"\"))\n",
    "Widget1 = widgets.VBox([Widget1Text,Widget1ExamplesAndUpload,Widget1Out])\n",
    "\n",
    "Widget2Text = HTML(markdown.markdown(\"\"\"\n",
    "Will run spock on the csv provided. When finished, output will be printed below.\n",
    "\"\"\"))\n",
    "Widget2BottomText = HTML(markdown.markdown(\"\"\"\n",
    "Output:\n",
    "\"\"\"))\n",
    "Widget2Out = widgets.Output(layout={'border': '1px solid black'})\n",
    "\n",
    "def run_spock(run=False, out=None):\n",
    "    if run :\n",
    "        csv_name = widget_choose_filename.value\n",
    "        if \"/\" in csv_name :\n",
    "            csv_name = csv_name.split(\"/\")[-1]\n",
    "        input_path = \"./uploaded/\" + csv_name\n",
    "        with Capturing() as output:\n",
    "            run_spock_from_args(pd.read_csv(input_path), verb=4)\n",
    "        return output\n",
    "    \n",
    "def clear (run=False, out=None, *some):\n",
    "    if run :\n",
    "        with out:\n",
    "            output=[]\n",
    "            for i in some:\n",
    "                i.clear_output() \n",
    "            output.extend([\"All the output was cleared\"])\n",
    "    return output\n",
    "\n",
    "Widget2 = widgets.VBox([Widget2Text, ExecutionButton(run_spock, Widget2Out), Widget2BottomText, Widget2Out])          \n",
    "\n",
    "#############################\n",
    "# Put widget in tab\n",
    "#############################\n",
    "\n",
    "children = [Widget1, Widget2]\n",
    "# children = [Widget1, Widget2, Widget3, Widget4, Widget5, Widget6]\n",
    "tab = widgets.Tab() #layout=widgets.Layout(width='800px', height='800px'))\n",
    "tab.children = children\n",
    "tab.set_title(0, 'Upload file')\n",
    "tab.set_title(1, 'Run spock')"
   ]
  },
  {
   "cell_type": "code",
   "execution_count": 12,
   "metadata": {
    "ExecuteTime": {
     "end_time": "2022-09-02T08:54:54.250014Z",
     "start_time": "2022-09-02T08:54:54.238004Z"
    },
    "tags": []
   },
   "outputs": [
    {
     "data": {
      "application/vnd.jupyter.widget-view+json": {
       "model_id": "0bd6e288b5034490bb072f18209cc30a",
       "version_major": 2,
       "version_minor": 0
      },
      "text/plain": [
       "Tab(children=(VBox(children=(HTML(value='<p>Choose a data sheet from the examples or upload your own in .csv f…"
      ]
     },
     "metadata": {},
     "output_type": "display_data"
    }
   ],
   "source": [
    "%matplotlib inline\n",
    "display(tab)"
   ]
  },
  {
   "cell_type": "code",
   "execution_count": null,
   "metadata": {},
   "outputs": [],
   "source": []
  },
  {
   "cell_type": "code",
   "execution_count": 11,
   "metadata": {
    "ExecuteTime": {
     "end_time": "2022-09-02T08:54:54.589544Z",
     "start_time": "2022-09-02T08:54:54.589534Z"
    },
    "tags": []
   },
   "outputs": [
    {
     "data": {
      "application/vnd.jupyter.widget-view+json": {
       "model_id": "da33bec9d9024e1ba3386d50293f5943",
       "version_major": 2,
       "version_minor": 0
      },
      "text/plain": [
       "Accordion(children=(VBox(children=(HTML(value='<ul>\\n<li>Funding from the NCCR Catalysis funded by the SNSF.</…"
      ]
     },
     "execution_count": 11,
     "metadata": {},
     "output_type": "execute_result"
    }
   ],
   "source": [
    "html_acknowledgments = markdown.markdown(\"\"\"\n",
    "* Funding from the NCCR Catalysis funded by the SNSF.\n",
    "\"\"\")\n",
    "acknowledgments=widgets.VBox([\n",
    "    HTML(html_acknowledgments)\n",
    "])\n",
    "\n",
    "html_howtocite = markdown.markdown(\"\"\"\n",
    "Please cite the spock paper~!\n",
    "\"\"\")\n",
    "howtocite=widgets.VBox([\n",
    "    HTML(html_howtocite)\n",
    "])\n",
    "\n",
    "post_children=[acknowledgments,howtocite]\n",
    "post_accordion = widgets.Accordion(layout=widgets.Layout())\n",
    "#print(post_accordion.layout.keys)\n",
    "post_accordion.children = post_children\n",
    "post_accordion.set_title(0, 'Acknowledgments')\n",
    "post_accordion.set_title(1, 'How to cite')\n",
    "post_accordion.selected_index = None\n",
    "post_accordion"
   ]
  },
  {
   "cell_type": "markdown",
   "metadata": {},
   "source": [
    "See the project on [GitHub](https://github.com/lcmd-epfl/cell2mol)"
   ]
  },
  {
   "cell_type": "markdown",
   "metadata": {},
   "source": [
    "spock, Copyright © 2024 "
   ]
  },
  {
   "cell_type": "code",
   "execution_count": null,
   "metadata": {},
   "outputs": [],
   "source": []
  }
 ],
 "metadata": {
  "kernelspec": {
   "display_name": "Python 3 (ipykernel)",
   "language": "python",
   "name": "python3"
  },
  "language_info": {
   "codemirror_mode": {
    "name": "ipython",
    "version": 3
   },
   "file_extension": ".py",
   "mimetype": "text/x-python",
   "name": "python",
   "nbconvert_exporter": "python",
   "pygments_lexer": "ipython3",
   "version": "3.8.13"
  }
 },
 "nbformat": 4,
 "nbformat_minor": 4
}
